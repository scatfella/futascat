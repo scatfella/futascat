{
  "cells": [
    {
      "cell_type": "code",
      "execution_count": null,
      "metadata": {},
      "outputs": [],
      "source": [
        "from google.colab import drive\n",
        "drive.mount('/content/drive')\n",
        "\n",
        "!apt -y install -qq aria2\n",
        "!pip install -q xformers==0.0.20 triton==2.0.0 -U\n",
        "\n",
        "%cd /content/drive/MyDrive/install\n",
        "!wget https://raw.githubusercontent.com/scatfella/futascat/master/misc/direct/v1.6.0/futascat.py -O /content/drive/MyDrive/install/directui.py\n",
        "\n",
        "import sys\n",
        "\n",
        "sys.argv = [\n",
        "    sys.argv[0],\n",
        "    \"--no-half-vae\",\n",
        "    \"--theme\",\n",
        "    \"dark\"\n",
        "]\n",
        "\n",
        "from modules import launch_utils\n",
        "launch_utils.prepare_environment()\n",
        "print(\"아래 코드를 실행해주세요!\")"
      ]
    },
    {
      "cell_type": "code",
      "execution_count": null,
      "metadata": {},
      "outputs": [],
      "source": [
        "# 직접실행\n",
        "from directui import webui\n",
        "webui()"
      ]
    }
  ],
  "metadata": {
    "accelerator": "GPU",
    "colab": {
      "collapsed_sections": [],
      "private_outputs": true,
      "provenance": []
    },
    "gpuClass": "standard",
    "kernelspec": {
      "display_name": "Python 3",
      "language": "python",
      "name": "python3"
    },
    "language_info": {
      "name": "python",
      "version": "3.10.11"
    },
    "vscode": {
      "interpreter": {
        "hash": "32c23ec9c124fdbef417fa7c12f036622d7e14abb755fc2527a38410604ea1a4"
      }
    }
  },
  "nbformat": 4,
  "nbformat_minor": 0
}
